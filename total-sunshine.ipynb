{
 "cells": [
  {
   "cell_type": "code",
   "execution_count": 1,
   "id": "turkish-bathroom",
   "metadata": {},
   "outputs": [],
   "source": [
    "#import needed libraries\n",
    "import numpy as np #for numerical operations\n",
    "import pandas as pd #for file operations\n",
    "import matplotlib.pyplot as plt #for plotting graphs\n",
    "import seaborn as sns #also for plotting graphs\n",
    "from sklearn.linear_model import LinearRegression #for machine learning \n",
    "from sklearn import metrics #for testing the machine learning model"
   ]
  },
  {
   "cell_type": "code",
   "execution_count": 2,
   "id": "nasty-spokesman",
   "metadata": {},
   "outputs": [],
   "source": [
    "# Importing the dataset\n",
    "dataset = pd.read_csv('total-sunshine-duration-Japanweather1.csv')"
   ]
  },
  {
   "cell_type": "code",
   "execution_count": 3,
   "id": "moderate-boost",
   "metadata": {},
   "outputs": [
    {
     "data": {
      "text/html": [
       "<div>\n",
       "<style scoped>\n",
       "    .dataframe tbody tr th:only-of-type {\n",
       "        vertical-align: middle;\n",
       "    }\n",
       "\n",
       "    .dataframe tbody tr th {\n",
       "        vertical-align: top;\n",
       "    }\n",
       "\n",
       "    .dataframe thead th {\n",
       "        text-align: right;\n",
       "    }\n",
       "</style>\n",
       "<table border=\"1\" class=\"dataframe\">\n",
       "  <thead>\n",
       "    <tr style=\"text-align: right;\">\n",
       "      <th></th>\n",
       "      <th>year</th>\n",
       "      <th>solar_radiation</th>\n",
       "      <th>mean_relative_humidity</th>\n",
       "      <th>mean_air_temperature</th>\n",
       "      <th>mean_wind_speed</th>\n",
       "      <th>total_precipitation</th>\n",
       "      <th>percentage_possible_sunshine</th>\n",
       "      <th>total_sunshine_duration</th>\n",
       "    </tr>\n",
       "  </thead>\n",
       "  <tbody>\n",
       "    <tr>\n",
       "      <th>0</th>\n",
       "      <td>Jan-10</td>\n",
       "      <td>9.1</td>\n",
       "      <td>67</td>\n",
       "      <td>16.8</td>\n",
       "      <td>5.0</td>\n",
       "      <td>90.0</td>\n",
       "      <td>28</td>\n",
       "      <td>92.7</td>\n",
       "    </tr>\n",
       "    <tr>\n",
       "      <th>1</th>\n",
       "      <td>Feb-10</td>\n",
       "      <td>9.2</td>\n",
       "      <td>77</td>\n",
       "      <td>18.3</td>\n",
       "      <td>5.6</td>\n",
       "      <td>276.5</td>\n",
       "      <td>22</td>\n",
       "      <td>69.5</td>\n",
       "    </tr>\n",
       "    <tr>\n",
       "      <th>2</th>\n",
       "      <td>Mar-10</td>\n",
       "      <td>14.2</td>\n",
       "      <td>71</td>\n",
       "      <td>19.9</td>\n",
       "      <td>5.8</td>\n",
       "      <td>41.5</td>\n",
       "      <td>36</td>\n",
       "      <td>134.9</td>\n",
       "    </tr>\n",
       "    <tr>\n",
       "      <th>3</th>\n",
       "      <td>Apr-10</td>\n",
       "      <td>13.4</td>\n",
       "      <td>76</td>\n",
       "      <td>21.2</td>\n",
       "      <td>5.4</td>\n",
       "      <td>219.0</td>\n",
       "      <td>21</td>\n",
       "      <td>81.3</td>\n",
       "    </tr>\n",
       "    <tr>\n",
       "      <th>4</th>\n",
       "      <td>May-10</td>\n",
       "      <td>14.8</td>\n",
       "      <td>79</td>\n",
       "      <td>23.8</td>\n",
       "      <td>5.1</td>\n",
       "      <td>574.5</td>\n",
       "      <td>27</td>\n",
       "      <td>111.8</td>\n",
       "    </tr>\n",
       "  </tbody>\n",
       "</table>\n",
       "</div>"
      ],
      "text/plain": [
       "     year  solar_radiation  mean_relative_humidity  mean_air_temperature  \\\n",
       "0  Jan-10              9.1                      67                  16.8   \n",
       "1  Feb-10              9.2                      77                  18.3   \n",
       "2  Mar-10             14.2                      71                  19.9   \n",
       "3  Apr-10             13.4                      76                  21.2   \n",
       "4  May-10             14.8                      79                  23.8   \n",
       "\n",
       "   mean_wind_speed  total_precipitation  percentage_possible_sunshine  \\\n",
       "0              5.0                 90.0                            28   \n",
       "1              5.6                276.5                            22   \n",
       "2              5.8                 41.5                            36   \n",
       "3              5.4                219.0                            21   \n",
       "4              5.1                574.5                            27   \n",
       "\n",
       "   total_sunshine_duration  \n",
       "0                     92.7  \n",
       "1                     69.5  \n",
       "2                    134.9  \n",
       "3                     81.3  \n",
       "4                    111.8  "
      ]
     },
     "execution_count": 3,
     "metadata": {},
     "output_type": "execute_result"
    }
   ],
   "source": [
    "dataset.head() #show the first 5 rows of the dataset"
   ]
  },
  {
   "cell_type": "code",
   "execution_count": 4,
   "id": "quick-religious",
   "metadata": {},
   "outputs": [],
   "source": [
    "X = dataset.iloc[:, 1:-1].values #select All rows, all columns excluding the first and the last column\n",
    "y = dataset.iloc[:, -1].values #select All rows, last column\n",
    "\n",
    "#dates = X[:,0]\n",
    "dates = dataset.iloc[:,0] #store the dates from the dataset (first column) in a variable, to be used when plotting graphs"
   ]
  },
  {
   "cell_type": "code",
   "execution_count": 5,
   "id": "breeding-bernard",
   "metadata": {},
   "outputs": [
    {
     "data": {
      "text/plain": [
       "LinearRegression()"
      ]
     },
     "execution_count": 5,
     "metadata": {},
     "output_type": "execute_result"
    }
   ],
   "source": [
    "#train a linear regression model on the data\n",
    "model = LinearRegression()\n",
    "model.fit(X, y)"
   ]
  },
  {
   "cell_type": "code",
   "execution_count": 6,
   "id": "diagnostic-steel",
   "metadata": {},
   "outputs": [
    {
     "name": "stdout",
     "output_type": "stream",
     "text": [
      "coefficient of determination:  0.9896546144278102\n"
     ]
    }
   ],
   "source": [
    "#find the coefficient of determination to see how well the model performs\n",
    "r_sq = model.score(X, y)\n",
    "print('coefficient of determination: ', r_sq)"
   ]
  },
  {
   "cell_type": "code",
   "execution_count": 7,
   "id": "material-bolivia",
   "metadata": {},
   "outputs": [
    {
     "name": "stdout",
     "output_type": "stream",
     "text": [
      "predicted response: \n",
      "[ 87.49416066  68.82629728 133.89688491  85.85873385 108.78340465\n",
      " 134.59410829 147.35449886 182.71358097 212.464684   122.3125591\n",
      " 107.20649963 121.45758567  48.97205864 111.99974436  90.16140098\n",
      " 184.51095295  74.51633067 191.38864766 226.65054727 193.68634537\n",
      " 216.11790748 113.04563367  78.15519327  60.48569141  42.46040322\n",
      "  54.72460388 125.920336   102.75897512 139.65993884 125.43293263\n",
      " 228.95739779 162.0409449  164.19073106 166.67949423 118.95356966\n",
      "  90.59177948  90.87886567 121.02089458 141.88985767  94.6275438\n",
      "  96.40662987 218.35077251 258.9376305  236.61822436 215.65898912\n",
      " 131.24539622 123.34308035  82.82708895 143.44197171  88.97791\n",
      " 110.01081212 154.33999732 111.38033941 135.09391069 226.92673834\n",
      " 171.59524531 230.30391538 172.84631559 139.75023872  80.25931714\n",
      "  84.22268166 123.90192491 125.88174355 122.72717311 144.45055815\n",
      " 220.61548843 197.59543132 170.36397378 218.60394475 178.21806511\n",
      " 145.63912773  97.56302579  65.45253934  87.65334319 104.43116856\n",
      " 132.20438316 144.73776875 181.87488475 244.18687729 218.86052191\n",
      " 148.8194681  175.45538587 132.90863112 111.40578421  71.94076007\n",
      "  86.2731822  101.91536724 134.98054935 113.2692979  109.94334329\n",
      " 256.37833781 238.77366393 190.57806533 162.47097967  86.98515343\n",
      "  98.83427397  69.52170323 106.5023025  183.08607952 166.05458102\n",
      " 232.29932885 173.65654297 175.52907427 195.98179844 181.0902357\n",
      " 150.73709915 160.92566327  78.55228553  91.90470102  83.58190891\n",
      " 130.18749221 122.32991928 148.13201984  93.0607899  188.35143164\n",
      " 188.04152746 159.50856048 200.78610028 142.15955794 118.34618416]\n"
     ]
    }
   ],
   "source": [
    "y_pred = model.predict(X) #using the trained model, try to predict outcomes\n",
    "print('predicted response: ', y_pred, sep='\\n') #display predictions"
   ]
  },
  {
   "cell_type": "code",
   "execution_count": 8,
   "id": "toxic-small",
   "metadata": {},
   "outputs": [
    {
     "name": "stdout",
     "output_type": "stream",
     "text": [
      "Mean Absolute Error: 4.295500616866665\n",
      "Mean Squared Error: 27.269116728151\n",
      "Root Mean Squared Error: 5.2219839839041065\n"
     ]
    }
   ],
   "source": [
    "#model evauluation metrics\n",
    "print('Mean Absolute Error:', metrics.mean_absolute_error(y, y_pred))  \n",
    "print('Mean Squared Error:', metrics.mean_squared_error(y, y_pred))  \n",
    "print('Root Mean Squared Error:', np.sqrt(metrics.mean_squared_error(y, y_pred)))"
   ]
  },
  {
   "cell_type": "code",
   "execution_count": 9,
   "id": "incredible-membrane",
   "metadata": {},
   "outputs": [
    {
     "data": {
      "text/plain": [
       "Text(0.5, 1.0, 'Total sunshine duration - actual and predicted values')"
      ]
     },
     "execution_count": 9,
     "metadata": {},
     "output_type": "execute_result"
    },
    {
     "data": {
      "image/png": "[encoded data removed]",
      "text/plain": [
       "<Figure size 720x360 with 1 Axes>"
      ]
     },
     "metadata": {
      "needs_background": "light"
     },
     "output_type": "display_data"
    }
   ],
   "source": [
    "df = pd.DataFrame(dict(actual_values=y[-13:-1], predicted_values=y_pred[-13:-1]), index=dates[-13:-1]) #create a dataframe containing the last 12 actual and predicted values with the month and year as the index of the dataframe\n",
    "g = sns.relplot(kind=\"line\", data=df) #plot a line graph using the dataframe\n",
    "g.fig.autofmt_xdate() #adjust the size of the x-axis so the dates have some spacing\n",
    "g.fig.set_size_inches(10, 5) #set the size of the figure\n",
    "plt.xlabel('Dates') #set the label for the x-axis\n",
    "plt.ylabel('Total sunshine duration') #set the label for the y-axis\n",
    "plt.title('Total sunshine duration - actual and predicted values') #set the title of the graph"
   ]
  },
  {
   "cell_type": "code",
   "execution_count": null,
   "id": "optional-temperature",
   "metadata": {},
   "outputs": [],
   "source": []
  }
 ],
 "metadata": {
  "kernelspec": {
   "display_name": "Python 3",
   "language": "python",
   "name": "python3"
  },
  "language_info": {
   "codemirror_mode": {
    "name": "ipython",
    "version": 3
   },
   "file_extension": ".py",
   "mimetype": "text/x-python",
   "name": "python",
   "nbconvert_exporter": "python",
   "pygments_lexer": "ipython3",
   "version": "3.8.8"
  }
 },
 "nbformat": 4,
 "nbformat_minor": 5
}
