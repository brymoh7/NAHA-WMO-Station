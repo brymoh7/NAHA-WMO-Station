{
 "cells": [
  {
   "cell_type": "code",
   "execution_count": 1,
   "id": "hydraulic-acrobat",
   "metadata": {},
   "outputs": [],
   "source": [
    "#import needed libraries\n",
    "import numpy as np #for numerical operations\n",
    "import pandas as pd #for file operations\n",
    "import matplotlib.pyplot as plt #for plotting graphs\n",
    "import seaborn as sns #also for plotting graphs\n",
    "from sklearn.linear_model import LinearRegression #for machine learning \n",
    "from sklearn import metrics #for testing the machine learning model"
   ]
  },
  {
   "cell_type": "code",
   "execution_count": 2,
   "id": "flying-noise",
   "metadata": {},
   "outputs": [],
   "source": [
    "# Importing the dataset\n",
    "dataset = pd.read_csv('total-precipitation-Japanweather1.csv')"
   ]
  },
  {
   "cell_type": "code",
   "execution_count": 3,
   "id": "digital-alias",
   "metadata": {},
   "outputs": [
    {
     "data": {
      "text/html": [
       "<div>\n",
       "<style scoped>\n",
       "    .dataframe tbody tr th:only-of-type {\n",
       "        vertical-align: middle;\n",
       "    }\n",
       "\n",
       "    .dataframe tbody tr th {\n",
       "        vertical-align: top;\n",
       "    }\n",
       "\n",
       "    .dataframe thead th {\n",
       "        text-align: right;\n",
       "    }\n",
       "</style>\n",
       "<table border=\"1\" class=\"dataframe\">\n",
       "  <thead>\n",
       "    <tr style=\"text-align: right;\">\n",
       "      <th></th>\n",
       "      <th>year</th>\n",
       "      <th>solar_radiation</th>\n",
       "      <th>mean_relative_humidity</th>\n",
       "      <th>mean_air_temperature</th>\n",
       "      <th>mean_wind_speed</th>\n",
       "      <th>total_sunshine_duration</th>\n",
       "      <th>percentage_possible_sunshine</th>\n",
       "      <th>total_precipitation</th>\n",
       "    </tr>\n",
       "  </thead>\n",
       "  <tbody>\n",
       "    <tr>\n",
       "      <th>0</th>\n",
       "      <td>Jan-10</td>\n",
       "      <td>9.1</td>\n",
       "      <td>67</td>\n",
       "      <td>16.8</td>\n",
       "      <td>5.0</td>\n",
       "      <td>92.7</td>\n",
       "      <td>28</td>\n",
       "      <td>90.0</td>\n",
       "    </tr>\n",
       "    <tr>\n",
       "      <th>1</th>\n",
       "      <td>Feb-10</td>\n",
       "      <td>9.2</td>\n",
       "      <td>77</td>\n",
       "      <td>18.3</td>\n",
       "      <td>5.6</td>\n",
       "      <td>69.5</td>\n",
       "      <td>22</td>\n",
       "      <td>276.5</td>\n",
       "    </tr>\n",
       "    <tr>\n",
       "      <th>2</th>\n",
       "      <td>Mar-10</td>\n",
       "      <td>14.2</td>\n",
       "      <td>71</td>\n",
       "      <td>19.9</td>\n",
       "      <td>5.8</td>\n",
       "      <td>134.9</td>\n",
       "      <td>36</td>\n",
       "      <td>41.5</td>\n",
       "    </tr>\n",
       "    <tr>\n",
       "      <th>3</th>\n",
       "      <td>Apr-10</td>\n",
       "      <td>13.4</td>\n",
       "      <td>76</td>\n",
       "      <td>21.2</td>\n",
       "      <td>5.4</td>\n",
       "      <td>81.3</td>\n",
       "      <td>21</td>\n",
       "      <td>219.0</td>\n",
       "    </tr>\n",
       "    <tr>\n",
       "      <th>4</th>\n",
       "      <td>May-10</td>\n",
       "      <td>14.8</td>\n",
       "      <td>79</td>\n",
       "      <td>23.8</td>\n",
       "      <td>5.1</td>\n",
       "      <td>111.8</td>\n",
       "      <td>27</td>\n",
       "      <td>574.5</td>\n",
       "    </tr>\n",
       "  </tbody>\n",
       "</table>\n",
       "</div>"
      ],
      "text/plain": [
       "     year  solar_radiation  mean_relative_humidity  mean_air_temperature  \\\n",
       "0  Jan-10              9.1                      67                  16.8   \n",
       "1  Feb-10              9.2                      77                  18.3   \n",
       "2  Mar-10             14.2                      71                  19.9   \n",
       "3  Apr-10             13.4                      76                  21.2   \n",
       "4  May-10             14.8                      79                  23.8   \n",
       "\n",
       "   mean_wind_speed  total_sunshine_duration  percentage_possible_sunshine  \\\n",
       "0              5.0                     92.7                            28   \n",
       "1              5.6                     69.5                            22   \n",
       "2              5.8                    134.9                            36   \n",
       "3              5.4                     81.3                            21   \n",
       "4              5.1                    111.8                            27   \n",
       "\n",
       "   total_precipitation  \n",
       "0                 90.0  \n",
       "1                276.5  \n",
       "2                 41.5  \n",
       "3                219.0  \n",
       "4                574.5  "
      ]
     },
     "execution_count": 3,
     "metadata": {},
     "output_type": "execute_result"
    }
   ],
   "source": [
    "dataset.head() #show the first 5 rows of the dataset"
   ]
  },
  {
   "cell_type": "code",
   "execution_count": 4,
   "id": "organized-delivery",
   "metadata": {},
   "outputs": [],
   "source": [
    "X = dataset.iloc[:, 1:-1].values #select All rows, all columns excluding the first and the last column\n",
    "y = dataset.iloc[:, -1].values #select All rows, last column\n",
    "\n",
    "#dates = X[:,0]\n",
    "dates = dataset.iloc[:,0] #store the dates from the dataset (first column) in a variable, to be used when plotting graphs"
   ]
  },
  {
   "cell_type": "code",
   "execution_count": 5,
   "id": "permanent-handle",
   "metadata": {},
   "outputs": [
    {
     "data": {
      "text/plain": [
       "LinearRegression()"
      ]
     },
     "execution_count": 5,
     "metadata": {},
     "output_type": "execute_result"
    }
   ],
   "source": [
    "#train a linear regression model on the data\n",
    "model = LinearRegression()\n",
    "model.fit(X, y)"
   ]
  },
  {
   "cell_type": "code",
   "execution_count": 6,
   "id": "vietnamese-amateur",
   "metadata": {},
   "outputs": [
    {
     "name": "stdout",
     "output_type": "stream",
     "text": [
      "coefficient of determination:  0.5583032062934818\n"
     ]
    }
   ],
   "source": [
    "#find the coefficient of determination to see how well the model performs\n",
    "r_sq = model.score(X, y)\n",
    "print('coefficient of determination: ', r_sq)"
   ]
  },
  {
   "cell_type": "code",
   "execution_count": 7,
   "id": "protected-following",
   "metadata": {},
   "outputs": [
    {
     "name": "stdout",
     "output_type": "stream",
     "text": [
      "predicted response: \n",
      "[ 79.93839922 248.3968812  144.30364291 290.13156278 298.28643281\n",
      " 363.07181434 369.26765458 278.06466719 156.05141723 269.75250911\n",
      " 140.91180712  33.2021425  131.4886774   74.25446365  94.22651509\n",
      "   7.73642304 411.81189044 344.33790468 199.26122766 278.12324468\n",
      " 198.5518447  284.82229369 332.80942898 204.24992996 201.78184817\n",
      " 219.80690168 145.41830961 262.41094671 241.66662627 425.91166521\n",
      " 194.54245439 370.54963994 253.14967069 171.46239246  96.80302328\n",
      " 133.18664907  94.13652097 108.85351691  99.73276796 219.68180391\n",
      " 318.61656993 220.59442447  91.73842121 136.91919575 200.16366137\n",
      " 324.16137059 102.01965215  92.9515485  -67.28158018 173.59194743\n",
      " 136.13272914 126.25949365 299.56844137 357.85154621 254.70445659\n",
      " 269.83769786  98.91459285 203.74090293 118.02426667 106.80770621\n",
      "  53.99383685   7.91094266 116.81012797 212.09459225 259.51731031\n",
      " 260.548945   300.20340609 305.33142932 109.58292867 108.24861469\n",
      " 139.74994221 146.9672387  163.91053512 128.46337329 127.05161077\n",
      " 284.1299915  291.42827322 273.44858944 148.19285398 124.9158137\n",
      " 333.448806   227.67817676 114.9180798  101.89236664 108.8820703\n",
      "  93.96701486 106.64731928 165.73935948 273.0956701  401.50998117\n",
      "  48.58893142 143.15523654 206.47350271 266.30795154 255.04570492\n",
      "  56.16912429 144.2891384   81.51397522   1.92858165 102.13709356\n",
      "  87.21954132 295.70791789 353.13694252 257.76422341 273.91008063\n",
      " 154.56454818  88.26977004 210.92502131  78.61608808 222.25238963\n",
      " 132.00582979 236.46276627 175.16414985 460.35288765 297.9178162\n",
      " 309.75384801 353.69698132 117.73319234 154.38485729 119.80815098]\n"
     ]
    }
   ],
   "source": [
    "y_pred = model.predict(X) #using the trained model, try to predict outcomes\n",
    "print('predicted response: ', y_pred, sep='\\n') #display predictions"
   ]
  },
  {
   "cell_type": "code",
   "execution_count": 8,
   "id": "alpha-edinburgh",
   "metadata": {},
   "outputs": [
    {
     "name": "stdout",
     "output_type": "stream",
     "text": [
      "Mean Absolute Error: 68.99297827279321\n",
      "Mean Squared Error: 8302.576809112003\n",
      "Root Mean Squared Error: 91.11847677124548\n"
     ]
    }
   ],
   "source": [
    "#model evauluation metrics\n",
    "print('Mean Absolute Error:', metrics.mean_absolute_error(y, y_pred))  \n",
    "print('Mean Squared Error:', metrics.mean_squared_error(y, y_pred))  \n",
    "print('Root Mean Squared Error:', np.sqrt(metrics.mean_squared_error(y, y_pred)))"
   ]
  },
  {
   "cell_type": "code",
   "execution_count": 9,
   "id": "paperback-photograph",
   "metadata": {},
   "outputs": [
    {
     "data": {
      "text/plain": [
       "Text(0.5, 1.0, 'Total precipitation - actual and predicted values')"
      ]
     },
     "execution_count": 9,
     "metadata": {},
     "output_type": "execute_result"
    },
    {
     "data": {
      "image/png": "[encoded data removed]",
      "text/plain": [
       "<Figure size 720x360 with 1 Axes>"
      ]
     },
     "metadata": {
      "needs_background": "light"
     },
     "output_type": "display_data"
    }
   ],
   "source": [
    "df = pd.DataFrame(dict(actual_values=y[-13:-1], predicted_values=y_pred[-13:-1]), index=dates[-13:-1]) #create a dataframe containing the last 12 actual and predicted values with the month and year as the index of the dataframe\n",
    "g = sns.relplot(kind=\"line\", data=df) #plot a line graph using the dataframe\n",
    "g.fig.autofmt_xdate() #adjust the size of the x-axis so the dates have some spacing\n",
    "g.fig.set_size_inches(10, 5) #set the size of the figure\n",
    "plt.xlabel('Dates') #set the label for the x-axis\n",
    "plt.ylabel('Total precipitation') #set the label for the y-axis\n",
    "plt.title('Total precipitation - actual and predicted values') #set the title of the graph"
   ]
  },
  {
   "cell_type": "code",
   "execution_count": null,
   "id": "alternate-conspiracy",
   "metadata": {},
   "outputs": [],
   "source": []
  }
 ],
 "metadata": {
  "kernelspec": {
   "display_name": "Python 3",
   "language": "python",
   "name": "python3"
  },
  "language_info": {
   "codemirror_mode": {
    "name": "ipython",
    "version": 3
   },
   "file_extension": ".py",
   "mimetype": "text/x-python",
   "name": "python",
   "nbconvert_exporter": "python",
   "pygments_lexer": "ipython3",
   "version": "3.8.8"
  }
 },
 "nbformat": 4,
 "nbformat_minor": 5
}
