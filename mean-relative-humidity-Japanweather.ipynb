{
 "cells": [
  {
   "cell_type": "code",
   "execution_count": 1,
   "id": "overhead-degree",
   "metadata": {},
   "outputs": [],
   "source": [
    "#import needed libraries\n",
    "import numpy as np #for numerical operations\n",
    "import pandas as pd #for file operations\n",
    "import matplotlib.pyplot as plt #for plotting graphs\n",
    "import seaborn as sns #also for plotting graphs\n",
    "from sklearn.linear_model import LinearRegression #for machine learning \n",
    "from sklearn import metrics #for testing the machine learning model"
   ]
  },
  {
   "cell_type": "code",
   "execution_count": 2,
   "id": "adopted-carol",
   "metadata": {},
   "outputs": [],
   "source": [
    "# Importing the dataset\n",
    "dataset = pd.read_csv('mean-relative-humidity-Japanweather1.csv')"
   ]
  },
  {
   "cell_type": "code",
   "execution_count": 3,
   "id": "liquid-jacob",
   "metadata": {},
   "outputs": [
    {
     "data": {
      "text/html": [
       "<div>\n",
       "<style scoped>\n",
       "    .dataframe tbody tr th:only-of-type {\n",
       "        vertical-align: middle;\n",
       "    }\n",
       "\n",
       "    .dataframe tbody tr th {\n",
       "        vertical-align: top;\n",
       "    }\n",
       "\n",
       "    .dataframe thead th {\n",
       "        text-align: right;\n",
       "    }\n",
       "</style>\n",
       "<table border=\"1\" class=\"dataframe\">\n",
       "  <thead>\n",
       "    <tr style=\"text-align: right;\">\n",
       "      <th></th>\n",
       "      <th>year</th>\n",
       "      <th>total_precipitation</th>\n",
       "      <th>mean_wind_speed</th>\n",
       "      <th>mean_air_temperature</th>\n",
       "      <th>percentage_possible_sunshine</th>\n",
       "      <th>total_sunshine_duration</th>\n",
       "      <th>solar_radiation</th>\n",
       "      <th>mean_relative_humidity</th>\n",
       "    </tr>\n",
       "  </thead>\n",
       "  <tbody>\n",
       "    <tr>\n",
       "      <th>0</th>\n",
       "      <td>Jan-10</td>\n",
       "      <td>90.0</td>\n",
       "      <td>5.0</td>\n",
       "      <td>16.8</td>\n",
       "      <td>28</td>\n",
       "      <td>92.7</td>\n",
       "      <td>9.1</td>\n",
       "      <td>67</td>\n",
       "    </tr>\n",
       "    <tr>\n",
       "      <th>1</th>\n",
       "      <td>Feb-10</td>\n",
       "      <td>276.5</td>\n",
       "      <td>5.6</td>\n",
       "      <td>18.3</td>\n",
       "      <td>22</td>\n",
       "      <td>69.5</td>\n",
       "      <td>9.2</td>\n",
       "      <td>77</td>\n",
       "    </tr>\n",
       "    <tr>\n",
       "      <th>2</th>\n",
       "      <td>Mar-10</td>\n",
       "      <td>41.5</td>\n",
       "      <td>5.8</td>\n",
       "      <td>19.9</td>\n",
       "      <td>36</td>\n",
       "      <td>134.9</td>\n",
       "      <td>14.2</td>\n",
       "      <td>71</td>\n",
       "    </tr>\n",
       "    <tr>\n",
       "      <th>3</th>\n",
       "      <td>Apr-10</td>\n",
       "      <td>219.0</td>\n",
       "      <td>5.4</td>\n",
       "      <td>21.2</td>\n",
       "      <td>21</td>\n",
       "      <td>81.3</td>\n",
       "      <td>13.4</td>\n",
       "      <td>76</td>\n",
       "    </tr>\n",
       "    <tr>\n",
       "      <th>4</th>\n",
       "      <td>May-10</td>\n",
       "      <td>574.5</td>\n",
       "      <td>5.1</td>\n",
       "      <td>23.8</td>\n",
       "      <td>27</td>\n",
       "      <td>111.8</td>\n",
       "      <td>14.8</td>\n",
       "      <td>79</td>\n",
       "    </tr>\n",
       "  </tbody>\n",
       "</table>\n",
       "</div>"
      ],
      "text/plain": [
       "     year  total_precipitation  mean_wind_speed  mean_air_temperature  \\\n",
       "0  Jan-10                 90.0              5.0                  16.8   \n",
       "1  Feb-10                276.5              5.6                  18.3   \n",
       "2  Mar-10                 41.5              5.8                  19.9   \n",
       "3  Apr-10                219.0              5.4                  21.2   \n",
       "4  May-10                574.5              5.1                  23.8   \n",
       "\n",
       "   percentage_possible_sunshine  total_sunshine_duration  solar_radiation  \\\n",
       "0                            28                     92.7              9.1   \n",
       "1                            22                     69.5              9.2   \n",
       "2                            36                    134.9             14.2   \n",
       "3                            21                     81.3             13.4   \n",
       "4                            27                    111.8             14.8   \n",
       "\n",
       "   mean_relative_humidity  \n",
       "0                      67  \n",
       "1                      77  \n",
       "2                      71  \n",
       "3                      76  \n",
       "4                      79  "
      ]
     },
     "execution_count": 3,
     "metadata": {},
     "output_type": "execute_result"
    }
   ],
   "source": [
    "dataset.head() #show the first 5 rows of the dataset"
   ]
  },
  {
   "cell_type": "code",
   "execution_count": 4,
   "id": "appointed-access",
   "metadata": {},
   "outputs": [],
   "source": [
    "X = dataset.iloc[:, 1:-1].values #select All rows, all columns excluding the first and the last column\n",
    "y = dataset.iloc[:, -1].values #select All rows, last column\n",
    "\n",
    "#dates = X[:,0]\n",
    "dates = dataset.iloc[:,0] #store the dates from the dataset (first column) in a variable, to be used when plotting graphs"
   ]
  },
  {
   "cell_type": "code",
   "execution_count": 5,
   "id": "burning-senate",
   "metadata": {},
   "outputs": [
    {
     "data": {
      "text/plain": [
       "LinearRegression()"
      ]
     },
     "execution_count": 5,
     "metadata": {},
     "output_type": "execute_result"
    }
   ],
   "source": [
    "#train a linear regression model on the data\n",
    "model = LinearRegression()\n",
    "model.fit(X, y)"
   ]
  },
  {
   "cell_type": "code",
   "execution_count": 6,
   "id": "behavioral-german",
   "metadata": {},
   "outputs": [
    {
     "name": "stdout",
     "output_type": "stream",
     "text": [
      "coefficient of determination:  0.8146058058799709\n"
     ]
    }
   ],
   "source": [
    "#find the coefficient of determination to see how well the model performs\n",
    "r_sq = model.score(X, y)\n",
    "print('coefficient of determination: ', r_sq)"
   ]
  },
  {
   "cell_type": "code",
   "execution_count": 7,
   "id": "outdoor-hypothesis",
   "metadata": {},
   "outputs": [
    {
     "name": "stdout",
     "output_type": "stream",
     "text": [
      "predicted response: \n",
      "[65.152114   70.75154832 69.464702   77.67998596 81.092592   83.3227843\n",
      " 83.94105609 81.08199135 75.54262916 77.2149745  70.4970598  63.44719567\n",
      " 64.39883884 67.86215379 69.62102625 69.51613337 81.68585853 80.81249133\n",
      " 77.75936255 79.79353921 75.38085592 75.82518665 75.51784076 67.34729666\n",
      " 67.61622933 69.62518681 70.07837465 77.4562871  78.58366234 83.27679036\n",
      " 76.82565009 82.88733475 77.93620164 71.12787273 69.19113533 65.94327788\n",
      " 64.92991615 67.28162684 69.78845275 75.70526299 83.41000246 78.69533964\n",
      " 75.50699901 77.29207042 75.99154744 74.35235103 68.48374019 65.33907908\n",
      " 60.64989496 70.50834082 70.15770163 73.0112855  80.27727953 82.84414168\n",
      " 80.25908077 79.54767632 74.64782864 71.90657828 68.82173557 65.83028344\n",
      " 64.03589213 65.73668821 69.82361896 75.72034008 79.45213037 78.22189456\n",
      " 81.11930104 81.26733442 74.93092265 71.41352287 69.87441703 66.95969931\n",
      " 67.11371417 67.92384199 70.3191854  78.68252913 79.81259517 80.88848565\n",
      " 78.39309215 77.30238641 81.42881734 73.40931229 70.19218364 66.95722695\n",
      " 68.11882782 68.55667778 69.79715407 74.16010498 81.01995708 84.72235606\n",
      " 76.27764302 77.22901177 77.85908701 75.91367861 73.27672828 64.87731585\n",
      " 66.87167838 67.04737671 67.4612442  73.24419984 73.67585055 81.2669674\n",
      " 81.5137673  78.45597335 79.31572676 72.35578762 67.98788754 69.08612234\n",
      " 66.11029453 72.66532455 70.87512897 75.94644654 78.01363218 86.47026554\n",
      " 80.08990837 79.95290732 80.28913051 70.41744593 69.50813858 65.0956856 ]\n"
     ]
    }
   ],
   "source": [
    "y_pred = model.predict(X) #using the trained model, try to predict outcomes\n",
    "print('predicted response: ', y_pred, sep='\\n') #display predictions"
   ]
  },
  {
   "cell_type": "code",
   "execution_count": 8,
   "id": "valid-mineral",
   "metadata": {},
   "outputs": [
    {
     "name": "stdout",
     "output_type": "stream",
     "text": [
      "Mean Absolute Error: 2.326346182042196\n",
      "Mean Squared Error: 7.869352685151354\n",
      "Root Mean Squared Error: 2.8052366540367597\n"
     ]
    }
   ],
   "source": [
    "#model evauluation metrics\n",
    "print('Mean Absolute Error:', metrics.mean_absolute_error(y, y_pred))  \n",
    "print('Mean Squared Error:', metrics.mean_squared_error(y, y_pred))  \n",
    "print('Root Mean Squared Error:', np.sqrt(metrics.mean_squared_error(y, y_pred)))"
   ]
  },
  {
   "cell_type": "code",
   "execution_count": 9,
   "id": "given-fence",
   "metadata": {},
   "outputs": [
    {
     "data": {
      "text/plain": [
       "Text(0.5, 1.0, 'Mean relative humidity - actual and predicted values')"
      ]
     },
     "execution_count": 9,
     "metadata": {},
     "output_type": "execute_result"
    },
    {
     "data": {
      "image/png": "[encoded data removed]",
      "text/plain": [
       "<Figure size 720x360 with 1 Axes>"
      ]
     },
     "metadata": {
      "needs_background": "light"
     },
     "output_type": "display_data"
    }
   ],
   "source": [
    "df = pd.DataFrame(dict(actual_values=y[-13:-1], predicted_values=y_pred[-13:-1]), index=dates[-13:-1]) #create a dataframe containing the last 12 actual and predicted values with the month and year as the index of the dataframe\n",
    "g = sns.relplot(kind=\"line\", data=df) #plot a line graph using the dataframe\n",
    "g.fig.autofmt_xdate() #adjust the size of the x-axis so the dates have some spacing\n",
    "g.fig.set_size_inches(10, 5) #set the size of the figure\n",
    "plt.xlabel('Dates') #set the label for the x-axis\n",
    "plt.ylabel('Mean relative humidity') #set the label for the y-axis\n",
    "plt.title('Mean relative humidity - actual and predicted values') #set the title of the graph"
   ]
  },
  {
   "cell_type": "code",
   "execution_count": null,
   "id": "structured-appendix",
   "metadata": {},
   "outputs": [],
   "source": []
  }
 ],
 "metadata": {
  "kernelspec": {
   "display_name": "Python 3",
   "language": "python",
   "name": "python3"
  },
  "language_info": {
   "codemirror_mode": {
    "name": "ipython",
    "version": 3
   },
   "file_extension": ".py",
   "mimetype": "text/x-python",
   "name": "python",
   "nbconvert_exporter": "python",
   "pygments_lexer": "ipython3",
   "version": "3.8.8"
  }
 },
 "nbformat": 4,
 "nbformat_minor": 5
}
