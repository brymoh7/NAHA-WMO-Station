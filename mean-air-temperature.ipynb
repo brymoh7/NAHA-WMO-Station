{
 "cells": [
  {
   "cell_type": "code",
   "execution_count": 1,
   "id": "spanish-treasury",
   "metadata": {},
   "outputs": [],
   "source": [
    "#import needed libraries\n",
    "import numpy as np #for numerical operations\n",
    "import pandas as pd #for file operations\n",
    "import matplotlib.pyplot as plt #for plotting graphs\n",
    "import seaborn as sns #also for plotting graphs\n",
    "from sklearn.linear_model import LinearRegression #for machine learning \n",
    "from sklearn import metrics #for testing the machine learning model"
   ]
  },
  {
   "cell_type": "code",
   "execution_count": 2,
   "id": "extreme-feedback",
   "metadata": {},
   "outputs": [],
   "source": [
    "# Importing the dataset\n",
    "dataset = pd.read_csv('mean-air-temperature.csv')"
   ]
  },
  {
   "cell_type": "code",
   "execution_count": 3,
   "id": "unable-inflation",
   "metadata": {},
   "outputs": [
    {
     "data": {
      "text/html": [
       "<div>\n",
       "<style scoped>\n",
       "    .dataframe tbody tr th:only-of-type {\n",
       "        vertical-align: middle;\n",
       "    }\n",
       "\n",
       "    .dataframe tbody tr th {\n",
       "        vertical-align: top;\n",
       "    }\n",
       "\n",
       "    .dataframe thead th {\n",
       "        text-align: right;\n",
       "    }\n",
       "</style>\n",
       "<table border=\"1\" class=\"dataframe\">\n",
       "  <thead>\n",
       "    <tr style=\"text-align: right;\">\n",
       "      <th></th>\n",
       "      <th>year</th>\n",
       "      <th>total_precipitation</th>\n",
       "      <th>mean_wind_speed</th>\n",
       "      <th>mean_relative_humidity</th>\n",
       "      <th>percentage_possible_sunshine</th>\n",
       "      <th>total_sunshine_duration</th>\n",
       "      <th>solar_radiation</th>\n",
       "      <th>mean_air_temperature</th>\n",
       "    </tr>\n",
       "  </thead>\n",
       "  <tbody>\n",
       "    <tr>\n",
       "      <th>0</th>\n",
       "      <td>Jan-10</td>\n",
       "      <td>90.0</td>\n",
       "      <td>5.0</td>\n",
       "      <td>67</td>\n",
       "      <td>28</td>\n",
       "      <td>92.7</td>\n",
       "      <td>9.1</td>\n",
       "      <td>16.8</td>\n",
       "    </tr>\n",
       "    <tr>\n",
       "      <th>1</th>\n",
       "      <td>Feb-10</td>\n",
       "      <td>276.5</td>\n",
       "      <td>5.6</td>\n",
       "      <td>77</td>\n",
       "      <td>22</td>\n",
       "      <td>69.5</td>\n",
       "      <td>9.2</td>\n",
       "      <td>18.3</td>\n",
       "    </tr>\n",
       "    <tr>\n",
       "      <th>2</th>\n",
       "      <td>Mar-10</td>\n",
       "      <td>41.5</td>\n",
       "      <td>5.8</td>\n",
       "      <td>71</td>\n",
       "      <td>36</td>\n",
       "      <td>134.9</td>\n",
       "      <td>14.2</td>\n",
       "      <td>19.9</td>\n",
       "    </tr>\n",
       "    <tr>\n",
       "      <th>3</th>\n",
       "      <td>Apr-10</td>\n",
       "      <td>219.0</td>\n",
       "      <td>5.4</td>\n",
       "      <td>76</td>\n",
       "      <td>21</td>\n",
       "      <td>81.3</td>\n",
       "      <td>13.4</td>\n",
       "      <td>21.2</td>\n",
       "    </tr>\n",
       "    <tr>\n",
       "      <th>4</th>\n",
       "      <td>May-10</td>\n",
       "      <td>574.5</td>\n",
       "      <td>5.1</td>\n",
       "      <td>79</td>\n",
       "      <td>27</td>\n",
       "      <td>111.8</td>\n",
       "      <td>14.8</td>\n",
       "      <td>23.8</td>\n",
       "    </tr>\n",
       "  </tbody>\n",
       "</table>\n",
       "</div>"
      ],
      "text/plain": [
       "     year  total_precipitation  mean_wind_speed  mean_relative_humidity  \\\n",
       "0  Jan-10                 90.0              5.0                      67   \n",
       "1  Feb-10                276.5              5.6                      77   \n",
       "2  Mar-10                 41.5              5.8                      71   \n",
       "3  Apr-10                219.0              5.4                      76   \n",
       "4  May-10                574.5              5.1                      79   \n",
       "\n",
       "   percentage_possible_sunshine  total_sunshine_duration  solar_radiation  \\\n",
       "0                            28                     92.7              9.1   \n",
       "1                            22                     69.5              9.2   \n",
       "2                            36                    134.9             14.2   \n",
       "3                            21                     81.3             13.4   \n",
       "4                            27                    111.8             14.8   \n",
       "\n",
       "   mean_air_temperature  \n",
       "0                  16.8  \n",
       "1                  18.3  \n",
       "2                  19.9  \n",
       "3                  21.2  \n",
       "4                  23.8  "
      ]
     },
     "execution_count": 3,
     "metadata": {},
     "output_type": "execute_result"
    }
   ],
   "source": [
    "dataset.head() #show the first 5 rows of the dataset"
   ]
  },
  {
   "cell_type": "code",
   "execution_count": 4,
   "id": "stuck-disaster",
   "metadata": {},
   "outputs": [],
   "source": [
    "X = dataset.iloc[:, 1:-1].values #select All rows, all columns excluding the first and the last column\n",
    "y = dataset.iloc[:, -1].values #select All rows, last column\n",
    "\n",
    "dates = dataset.iloc[:,0] #store the dates from the dataset (first column) in a variable, to be used when plotting graphs"
   ]
  },
  {
   "cell_type": "code",
   "execution_count": 5,
   "id": "funky-stations",
   "metadata": {},
   "outputs": [
    {
     "data": {
      "text/plain": [
       "LinearRegression()"
      ]
     },
     "execution_count": 5,
     "metadata": {},
     "output_type": "execute_result"
    }
   ],
   "source": [
    "#train a linear regression model on the data\n",
    "model = LinearRegression()\n",
    "model.fit(X, y)"
   ]
  },
  {
   "cell_type": "code",
   "execution_count": 6,
   "id": "mobile-equilibrium",
   "metadata": {},
   "outputs": [
    {
     "name": "stdout",
     "output_type": "stream",
     "text": [
      "coefficient of determination:  0.8798753603082808\n"
     ]
    }
   ],
   "source": [
    "#find the coefficient of determination to see how well the model performs\n",
    "r_sq = model.score(X, y)\n",
    "print('coefficient of determination: ', r_sq)"
   ]
  },
  {
   "cell_type": "code",
   "execution_count": 7,
   "id": "spiritual-warrior",
   "metadata": {},
   "outputs": [
    {
     "name": "stdout",
     "output_type": "stream",
     "text": [
      "predicted response: \n",
      "[18.45228932 21.05087191 21.3364593  20.11789206 24.75356554 24.35976844\n",
      " 25.78812758 27.39006863 27.8625716  23.38667344 19.35888791 19.59138985\n",
      " 16.10005962 20.07797299 15.79242828 23.27092145 23.33238247 29.18059196\n",
      " 30.01166562 30.25159848 27.0754072  23.52445342 21.65542469 17.8930137\n",
      " 17.66336971 18.3945669  20.90153192 21.75986416 23.87335949 26.61109429\n",
      " 29.7595676  29.71199872 25.47175358 23.4624275  20.45698973 18.38905718\n",
      " 18.43834229 20.84864342 22.6685266  20.15749922 24.18140394 28.38491186\n",
      " 28.9008601  29.6125076  27.19319882 22.83453714 19.96445762 17.71697206\n",
      " 19.81759177 19.70191148 19.96747355 22.47103886 24.06032627 26.91342584\n",
      " 31.99439709 27.81226243 27.97467875 25.09605988 21.06427741 16.76068161\n",
      " 16.19670401 18.40436933 21.26084425 21.67777458 24.96619609 29.47971129\n",
      " 29.00637447 26.6703748  26.0215937  23.17061949 22.596352   19.53018522\n",
      " 19.90614678 17.36789869 19.97162321 25.23407286 24.91188732 28.60390466\n",
      " 29.88119234 28.13255922 25.32945668 26.91332675 20.29457775 18.31293306\n",
      " 16.46537323 15.91619195 18.34680609 20.55418616 22.75367017 25.49227092\n",
      " 29.22699682 28.15441711 26.56461878 24.8161295  19.48552029 17.04380078\n",
      " 17.79753287 18.03063142 23.02854465 22.98903742 28.75752117 27.07505451\n",
      " 29.07301454 29.95341353 27.59353252 24.91399831 24.02943428 20.42109521\n",
      " 18.4880452  21.16474332 21.39625438 22.51940759 23.20948764 26.59975025\n",
      " 29.83034997 28.88708372 28.32546162 27.16299032 22.3485547  22.63834868]\n"
     ]
    }
   ],
   "source": [
    "y_pred = model.predict(X) #using the trained model, try to predict outcomes\n",
    "print('predicted response: ', y_pred, sep='\\n') #display predictions"
   ]
  },
  {
   "cell_type": "code",
   "execution_count": 8,
   "id": "italian-oregon",
   "metadata": {},
   "outputs": [
    {
     "name": "stdout",
     "output_type": "stream",
     "text": [
      "Mean Absolute Error: 1.266574541712815\n",
      "Mean Squared Error: 2.332488074556817\n",
      "Root Mean Squared Error: 1.5272485307103152\n"
     ]
    }
   ],
   "source": [
    "#model evauluation metrics\n",
    "print('Mean Absolute Error:', metrics.mean_absolute_error(y, y_pred))  \n",
    "print('Mean Squared Error:', metrics.mean_squared_error(y, y_pred))  \n",
    "print('Root Mean Squared Error:', np.sqrt(metrics.mean_squared_error(y, y_pred)))"
   ]
  },
  {
   "cell_type": "code",
   "execution_count": 9,
   "id": "closing-glass",
   "metadata": {},
   "outputs": [
    {
     "data": {
      "text/plain": [
       "Text(0.5, 1.0, 'Mean air temperature - actual and predicted values')"
      ]
     },
     "execution_count": 9,
     "metadata": {},
     "output_type": "execute_result"
    },
    {
     "data": {
      "image/png": "[encoded data removed]",
      "text/plain": [
       "<Figure size 720x360 with 1 Axes>"
      ]
     },
     "metadata": {
      "needs_background": "light"
     },
     "output_type": "display_data"
    }
   ],
   "source": [
    "df = pd.DataFrame(dict(actual_values=y[-13:-1], predicted_values=y_pred[-13:-1]), index=dates[-13:-1]) #create a dataframe containing the last 12 actual and predicted values with the month and year as the index of the dataframe\n",
    "g = sns.relplot(kind=\"line\", data=df) #plot a line graph using the dataframe\n",
    "g.fig.autofmt_xdate() #adjust the size of the x-axis so the dates have some spacing\n",
    "g.fig.set_size_inches(10, 5) #set the size of the figure\n",
    "plt.xlabel('Dates') #set the label for the x-axis\n",
    "plt.ylabel('Mean air temperature') #set the label for the y-axis\n",
    "plt.title('Mean air temperature - actual and predicted values') #set the title of the graph"
   ]
  },
  {
   "cell_type": "code",
   "execution_count": null,
   "id": "adolescent-editing",
   "metadata": {},
   "outputs": [],
   "source": []
  }
 ],
 "metadata": {
  "kernelspec": {
   "display_name": "Python 3",
   "language": "python",
   "name": "python3"
  },
  "language_info": {
   "codemirror_mode": {
    "name": "ipython",
    "version": 3
   },
   "file_extension": ".py",
   "mimetype": "text/x-python",
   "name": "python",
   "nbconvert_exporter": "python",
   "pygments_lexer": "ipython3",
   "version": "3.8.8"
  }
 },
 "nbformat": 4,
 "nbformat_minor": 5
}
