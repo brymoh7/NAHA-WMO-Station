{
 "cells": [
  {
   "cell_type": "code",
   "execution_count": 1,
   "id": "colored-commander",
   "metadata": {},
   "outputs": [],
   "source": [
    "#import needed libraries\n",
    "import numpy as np #for numerical operations\n",
    "import pandas as pd #for file operations\n",
    "import matplotlib.pyplot as plt #for plotting graphs\n",
    "import seaborn as sns #also for plotting graphs\n",
    "from sklearn.linear_model import LinearRegression #for machine learning \n",
    "from sklearn import metrics #for testing the machine learning model"
   ]
  },
  {
   "cell_type": "code",
   "execution_count": 2,
   "id": "honest-glory",
   "metadata": {},
   "outputs": [],
   "source": [
    "# Importing the dataset\n",
    "dataset = pd.read_csv('solar-radiation.csv')"
   ]
  },
  {
   "cell_type": "code",
   "execution_count": 3,
   "id": "latin-health",
   "metadata": {},
   "outputs": [
    {
     "data": {
      "text/html": [
       "<div>\n",
       "<style scoped>\n",
       "    .dataframe tbody tr th:only-of-type {\n",
       "        vertical-align: middle;\n",
       "    }\n",
       "\n",
       "    .dataframe tbody tr th {\n",
       "        vertical-align: top;\n",
       "    }\n",
       "\n",
       "    .dataframe thead th {\n",
       "        text-align: right;\n",
       "    }\n",
       "</style>\n",
       "<table border=\"1\" class=\"dataframe\">\n",
       "  <thead>\n",
       "    <tr style=\"text-align: right;\">\n",
       "      <th></th>\n",
       "      <th>year</th>\n",
       "      <th>total_precipitation</th>\n",
       "      <th>mean_relative_humidity</th>\n",
       "      <th>mean_air_temperature</th>\n",
       "      <th>mean_wind_speed</th>\n",
       "      <th>total_sunshine_duration</th>\n",
       "      <th>percentage_possible_sunshine</th>\n",
       "      <th>solar_radiation</th>\n",
       "    </tr>\n",
       "  </thead>\n",
       "  <tbody>\n",
       "    <tr>\n",
       "      <th>0</th>\n",
       "      <td>Jan-10</td>\n",
       "      <td>90.0</td>\n",
       "      <td>67</td>\n",
       "      <td>16.8</td>\n",
       "      <td>5.0</td>\n",
       "      <td>92.7</td>\n",
       "      <td>28</td>\n",
       "      <td>9.1</td>\n",
       "    </tr>\n",
       "    <tr>\n",
       "      <th>1</th>\n",
       "      <td>Feb-10</td>\n",
       "      <td>276.5</td>\n",
       "      <td>77</td>\n",
       "      <td>18.3</td>\n",
       "      <td>5.6</td>\n",
       "      <td>69.5</td>\n",
       "      <td>22</td>\n",
       "      <td>9.2</td>\n",
       "    </tr>\n",
       "    <tr>\n",
       "      <th>2</th>\n",
       "      <td>Mar-10</td>\n",
       "      <td>41.5</td>\n",
       "      <td>71</td>\n",
       "      <td>19.9</td>\n",
       "      <td>5.8</td>\n",
       "      <td>134.9</td>\n",
       "      <td>36</td>\n",
       "      <td>14.2</td>\n",
       "    </tr>\n",
       "    <tr>\n",
       "      <th>3</th>\n",
       "      <td>Apr-10</td>\n",
       "      <td>219.0</td>\n",
       "      <td>76</td>\n",
       "      <td>21.2</td>\n",
       "      <td>5.4</td>\n",
       "      <td>81.3</td>\n",
       "      <td>21</td>\n",
       "      <td>13.4</td>\n",
       "    </tr>\n",
       "    <tr>\n",
       "      <th>4</th>\n",
       "      <td>May-10</td>\n",
       "      <td>574.5</td>\n",
       "      <td>79</td>\n",
       "      <td>23.8</td>\n",
       "      <td>5.1</td>\n",
       "      <td>111.8</td>\n",
       "      <td>27</td>\n",
       "      <td>14.8</td>\n",
       "    </tr>\n",
       "  </tbody>\n",
       "</table>\n",
       "</div>"
      ],
      "text/plain": [
       "     year  total_precipitation  mean_relative_humidity  mean_air_temperature  \\\n",
       "0  Jan-10                 90.0                      67                  16.8   \n",
       "1  Feb-10                276.5                      77                  18.3   \n",
       "2  Mar-10                 41.5                      71                  19.9   \n",
       "3  Apr-10                219.0                      76                  21.2   \n",
       "4  May-10                574.5                      79                  23.8   \n",
       "\n",
       "   mean_wind_speed  total_sunshine_duration  percentage_possible_sunshine  \\\n",
       "0              5.0                     92.7                            28   \n",
       "1              5.6                     69.5                            22   \n",
       "2              5.8                    134.9                            36   \n",
       "3              5.4                     81.3                            21   \n",
       "4              5.1                    111.8                            27   \n",
       "\n",
       "   solar_radiation  \n",
       "0              9.1  \n",
       "1              9.2  \n",
       "2             14.2  \n",
       "3             13.4  \n",
       "4             14.8  "
      ]
     },
     "execution_count": 3,
     "metadata": {},
     "output_type": "execute_result"
    }
   ],
   "source": [
    "dataset.head() #show the first 5 rows of the dataset"
   ]
  },
  {
   "cell_type": "code",
   "execution_count": 4,
   "id": "respected-colony",
   "metadata": {},
   "outputs": [],
   "source": [
    "X = dataset.iloc[:, 1:-1].values #select All rows, all columns excluding the first and the last column\n",
    "y = dataset.iloc[:, -1].values #select All rows, last column\n",
    "\n",
    "#dates = X[:,0]\n",
    "dates = dataset.iloc[:,0] #store the dates from the dataset (first column) in a variable, to be used when plotting graphs"
   ]
  },
  {
   "cell_type": "code",
   "execution_count": 5,
   "id": "applicable-benchmark",
   "metadata": {},
   "outputs": [
    {
     "data": {
      "text/plain": [
       "LinearRegression()"
      ]
     },
     "execution_count": 5,
     "metadata": {},
     "output_type": "execute_result"
    }
   ],
   "source": [
    "#train a linear regression model on the data\n",
    "model = LinearRegression()\n",
    "model.fit(X, y)"
   ]
  },
  {
   "cell_type": "code",
   "execution_count": 6,
   "id": "atlantic-transcript",
   "metadata": {},
   "outputs": [
    {
     "name": "stdout",
     "output_type": "stream",
     "text": [
      "coefficient of determination:  0.9439032454099134\n"
     ]
    }
   ],
   "source": [
    "#find the coefficient of determination to see how well the model performs\n",
    "r_sq = model.score(X, y)\n",
    "print('coefficient of determination: ', r_sq)"
   ]
  },
  {
   "cell_type": "code",
   "execution_count": 7,
   "id": "adult-thesis",
   "metadata": {},
   "outputs": [
    {
     "name": "stdout",
     "output_type": "stream",
     "text": [
      "predicted response: \n",
      "[10.21795842 10.08166602 13.90351868 11.90591094 14.84007319 15.88427093\n",
      " 16.64697673 18.70028438 18.02429527 12.34448842 10.01473695 10.48276708\n",
      "  8.41526822 10.88718456 10.24975849 16.87437113 13.54699737 19.96018866\n",
      " 23.00866301 19.91076139 17.4059123  13.0443413  10.04079131  9.13611304\n",
      "  9.21097227  9.3606309  13.16624947 12.70521663 16.47587032 16.18042996\n",
      " 22.92558236 17.4105313  15.27460485 13.89515074 10.5111584   9.4164613\n",
      "  9.80846048 10.75909399 14.54147    12.58975891 14.039499   20.97587775\n",
      " 23.98188819 21.86576009 17.21919201 12.23037123 10.50694958  9.4342912\n",
      " 11.56408194  9.99923975 12.19274748 15.45747181 15.29291601 16.72929528\n",
      " 22.62460202 18.54257039 18.74566055 14.14378175 11.44662789  8.60964978\n",
      "  9.24817119 10.35141112 13.81649601 14.12746716 17.16941278 21.77368767\n",
      " 20.23844768 17.68754217 17.49152871 14.46040177 11.89869828 10.29343693\n",
      "  9.94847669  8.86550247 12.32547233 15.14698384 17.00267922 19.67586479\n",
      " 23.53221529 20.80937348 14.56697952 16.08031991 10.93507462  9.8612328\n",
      "  9.07574664  8.60270329 11.59284132 13.67496348 14.81041577 15.17799015\n",
      " 24.31301538 21.45901532 16.71142119 13.64368549  9.72470741  9.30342224\n",
      "  9.10657035  9.61332601 15.95611639 16.09149956 22.79526908 18.57057239\n",
      " 19.05028761 20.44873285 16.54235738 13.93483884 12.69568439 10.31082812\n",
      " 10.56109659 10.8341755  13.44768585 14.42231637 16.89338251 14.64485455\n",
      " 20.70702545 19.66138899 15.53421816 16.6995029  11.38401388 11.83603884]\n"
     ]
    }
   ],
   "source": [
    "y_pred = model.predict(X) #using the trained model, try to predict outcomes\n",
    "print('predicted response: ', y_pred, sep='\\n') #display predictions"
   ]
  },
  {
   "cell_type": "code",
   "execution_count": 8,
   "id": "critical-anaheim",
   "metadata": {},
   "outputs": [
    {
     "name": "stdout",
     "output_type": "stream",
     "text": [
      "Mean Absolute Error: 0.8259109989971984\n",
      "Mean Squared Error: 1.037256066846007\n",
      "Root Mean Squared Error: 1.0184576902581701\n"
     ]
    }
   ],
   "source": [
    "#model evauluation metrics\n",
    "print('Mean Absolute Error:', metrics.mean_absolute_error(y, y_pred))  \n",
    "print('Mean Squared Error:', metrics.mean_squared_error(y, y_pred))  \n",
    "print('Root Mean Squared Error:', np.sqrt(metrics.mean_squared_error(y, y_pred)))"
   ]
  },
  {
   "cell_type": "code",
   "execution_count": 9,
   "id": "naughty-maintenance",
   "metadata": {},
   "outputs": [
    {
     "data": {
      "text/plain": [
       "Text(0.5, 1.0, 'Solar radiation - actual and predicted values')"
      ]
     },
     "execution_count": 9,
     "metadata": {},
     "output_type": "execute_result"
    },
    {
     "data": {
      "image/png": "[encoded data removed]",
      "text/plain": [
       "<Figure size 720x360 with 1 Axes>"
      ]
     },
     "metadata": {
      "needs_background": "light"
     },
     "output_type": "display_data"
    }
   ],
   "source": [
    "df = pd.DataFrame(dict(actual_values=y[-13:-1], predicted_values=y_pred[-13:-1]), index=dates[-13:-1]) #create a dataframe containing the last 12 actual and predicted values with the month and year as the index of the dataframe\n",
    "g = sns.relplot(kind=\"line\", data=df) #plot a line graph using the dataframe\n",
    "g.fig.autofmt_xdate() #adjust the size of the x-axis so the dates have some spacing\n",
    "g.fig.set_size_inches(10, 5) #set the size of the figure\n",
    "plt.xlabel('Dates') #set the label for the x-axis\n",
    "plt.ylabel('Solar radiation') #set the label for the y-axis\n",
    "plt.title('Solar radiation - actual and predicted values') #set the title of the graph"
   ]
  },
  {
   "cell_type": "code",
   "execution_count": null,
   "id": "dynamic-bangkok",
   "metadata": {},
   "outputs": [],
   "source": []
  }
 ],
 "metadata": {
  "kernelspec": {
   "display_name": "Python 3",
   "language": "python",
   "name": "python3"
  },
  "language_info": {
   "codemirror_mode": {
    "name": "ipython",
    "version": 3
   },
   "file_extension": ".py",
   "mimetype": "text/x-python",
   "name": "python",
   "nbconvert_exporter": "python",
   "pygments_lexer": "ipython3",
   "version": "3.8.8"
  }
 },
 "nbformat": 4,
 "nbformat_minor": 5
}
