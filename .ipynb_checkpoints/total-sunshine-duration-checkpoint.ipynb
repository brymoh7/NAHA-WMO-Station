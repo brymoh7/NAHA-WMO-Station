{
 "cells": [
  {
   "cell_type": "code",
   "execution_count": 78,
   "id": "gentle-nowhere",
   "metadata": {},
   "outputs": [],
   "source": [
    "#import libraries\n",
    "import pandas as pd\n",
    "from sklearn.model_selection import TimeSeriesSplit\n",
    "from sklearn.linear_model import LinearRegression\n",
    "from sklearn.neural_network import MLPRegressor\n",
    "from sklearn.neighbors import KNeighborsRegressor\n",
    "from sklearn.ensemble import RandomForestRegressor\n",
    "from sklearn.svm import SVR\n",
    "from sklearn.model_selection import cross_val_score\n",
    "import matplotlib.pyplot as plt\n",
    "import numpy as np\n",
    "import sklearn.metrics as metrics\n",
    "from sklearn.metrics import make_scorer\n",
    "from sklearn.model_selection import GridSearchCV"
   ]
  },
  {
   "cell_type": "code",
   "execution_count": 79,
   "id": "joint-myanmar",
   "metadata": {},
   "outputs": [],
   "source": [
    "data = pd.read_csv('total-sunshine-duration-Japanweather1.csv') #load the dataset"
   ]
  },
  {
   "cell_type": "code",
   "execution_count": 80,
   "id": "functional-intranet",
   "metadata": {},
   "outputs": [
    {
     "data": {
      "text/plain": [
       "date                            datetime64[ns]\n",
       "solar_radiation                        float64\n",
       "mean_relative_humidity                   int64\n",
       "mean_air_temperature                   float64\n",
       "mean_wind_speed                        float64\n",
       "total_precipitation                    float64\n",
       "percentage_possible_sunshine             int64\n",
       "total_sunshine_duration                float64\n",
       "dtype: object"
      ]
     },
     "execution_count": 80,
     "metadata": {},
     "output_type": "execute_result"
    }
   ],
   "source": [
    "# to explicitly convert the date column to type DATETIME\n",
    "data['date'] = pd.to_datetime(data['date'], dayfirst=True)\n",
    "data.dtypes"
   ]
  },
  {
   "cell_type": "code",
   "execution_count": 81,
   "id": "integral-operation",
   "metadata": {},
   "outputs": [],
   "source": [
    "data = data.set_index('date') #set the index of the dataset as the date"
   ]
  },
  {
   "cell_type": "code",
   "execution_count": 82,
   "id": "eleven-blast",
   "metadata": {},
   "outputs": [],
   "source": [
    "#define a function to output evaluation metrics\n",
    "def regression_results(y_true, y_pred):\n",
    "    # Regression metrics\n",
    "    explained_variance=metrics.explained_variance_score(y_true, y_pred)\n",
    "    mean_absolute_error=metrics.mean_absolute_error(y_true, y_pred) \n",
    "    mse=metrics.mean_squared_error(y_true, y_pred) \n",
    "    mean_squared_log_error=metrics.mean_squared_log_error(y_true, y_pred)\n",
    "    median_absolute_error=metrics.median_absolute_error(y_true, y_pred)\n",
    "    r2=metrics.r2_score(y_true, y_pred)\n",
    "    print('explained_variance: ', round(explained_variance,4))    \n",
    "    print('mean_squared_log_error: ', round(mean_squared_log_error,4))\n",
    "    print('r2: ', round(r2,4))\n",
    "    print('MAE: ', round(mean_absolute_error,4))\n",
    "    print('MSE: ', round(mse,4))\n",
    "    print('RMSE: ', round(np.sqrt(mse),4))"
   ]
  },
  {
   "cell_type": "code",
   "execution_count": 94,
   "id": "adjusted-measure",
   "metadata": {},
   "outputs": [
    {
     "name": "stderr",
     "output_type": "stream",
     "text": [
      "c:\\users\\user\\appdata\\local\\programs\\python\\python38\\lib\\site-packages\\pandas\\core\\indexing.py:1597: SettingWithCopyWarning: \n",
      "A value is trying to be set on a copy of a slice from a DataFrame.\n",
      "Try using .loc[row_indexer,col_indexer] = value instead\n",
      "\n",
      "See the caveats in the documentation: https://pandas.pydata.org/pandas-docs/stable/user_guide/indexing.html#returning-a-view-versus-a-copy\n",
      "  self.obj[key] = value\n",
      "c:\\users\\user\\appdata\\local\\programs\\python\\python38\\lib\\site-packages\\pandas\\core\\indexing.py:1676: SettingWithCopyWarning: \n",
      "A value is trying to be set on a copy of a slice from a DataFrame.\n",
      "Try using .loc[row_indexer,col_indexer] = value instead\n",
      "\n",
      "See the caveats in the documentation: https://pandas.pydata.org/pandas-docs/stable/user_guide/indexing.html#returning-a-view-versus-a-copy\n",
      "  self._setitem_single_column(ilocs[0], value, pi)\n"
     ]
    }
   ],
   "source": [
    "data_total_sunshine_duration = data[['total_sunshine_duration', 'solar_radiation']] # creating new dataframe from total_sunshine_duration column\n",
    "data_total_sunshine_duration.loc[:,'last_month'] = data_total_sunshine_duration.loc[:,'total_sunshine_duration'].shift() # inserting new column with last month's total_sunshine_duration values\n",
    "data_total_sunshine_duration.loc[:,'last_month_solar_radiation'] = data_total_sunshine_duration.loc[:,'solar_radiation'].shift() # inserting new column with last month's total_sunshine_duration values\n",
    "data_total_sunshine_duration = data_total_sunshine_duration.dropna() # dropping NAs"
   ]
  },
  {
   "cell_type": "code",
   "execution_count": 95,
   "id": "blessed-thumb",
   "metadata": {},
   "outputs": [
    {
     "data": {
      "text/html": [
       "<div>\n",
       "<style scoped>\n",
       "    .dataframe tbody tr th:only-of-type {\n",
       "        vertical-align: middle;\n",
       "    }\n",
       "\n",
       "    .dataframe tbody tr th {\n",
       "        vertical-align: top;\n",
       "    }\n",
       "\n",
       "    .dataframe thead th {\n",
       "        text-align: right;\n",
       "    }\n",
       "</style>\n",
       "<table border=\"1\" class=\"dataframe\">\n",
       "  <thead>\n",
       "    <tr style=\"text-align: right;\">\n",
       "      <th></th>\n",
       "      <th>total_sunshine_duration</th>\n",
       "      <th>last_month</th>\n",
       "      <th>last_month_solar_radiation</th>\n",
       "    </tr>\n",
       "    <tr>\n",
       "      <th>date</th>\n",
       "      <th></th>\n",
       "      <th></th>\n",
       "      <th></th>\n",
       "    </tr>\n",
       "  </thead>\n",
       "  <tbody>\n",
       "    <tr>\n",
       "      <th>2010-02-01</th>\n",
       "      <td>69.5</td>\n",
       "      <td>92.7</td>\n",
       "      <td>9.1</td>\n",
       "    </tr>\n",
       "    <tr>\n",
       "      <th>2010-03-01</th>\n",
       "      <td>134.9</td>\n",
       "      <td>69.5</td>\n",
       "      <td>9.2</td>\n",
       "    </tr>\n",
       "    <tr>\n",
       "      <th>2010-04-01</th>\n",
       "      <td>81.3</td>\n",
       "      <td>134.9</td>\n",
       "      <td>14.2</td>\n",
       "    </tr>\n",
       "    <tr>\n",
       "      <th>2010-05-01</th>\n",
       "      <td>111.8</td>\n",
       "      <td>81.3</td>\n",
       "      <td>13.4</td>\n",
       "    </tr>\n",
       "    <tr>\n",
       "      <th>2010-06-01</th>\n",
       "      <td>128.1</td>\n",
       "      <td>111.8</td>\n",
       "      <td>14.8</td>\n",
       "    </tr>\n",
       "    <tr>\n",
       "      <th>...</th>\n",
       "      <td>...</td>\n",
       "      <td>...</td>\n",
       "      <td>...</td>\n",
       "    </tr>\n",
       "    <tr>\n",
       "      <th>2019-08-01</th>\n",
       "      <td>191.3</td>\n",
       "      <td>196.2</td>\n",
       "      <td>19.2</td>\n",
       "    </tr>\n",
       "    <tr>\n",
       "      <th>2019-09-01</th>\n",
       "      <td>154.2</td>\n",
       "      <td>191.3</td>\n",
       "      <td>18.9</td>\n",
       "    </tr>\n",
       "    <tr>\n",
       "      <th>2019-10-01</th>\n",
       "      <td>198.8</td>\n",
       "      <td>154.2</td>\n",
       "      <td>15.7</td>\n",
       "    </tr>\n",
       "    <tr>\n",
       "      <th>2019-11-01</th>\n",
       "      <td>135.7</td>\n",
       "      <td>198.8</td>\n",
       "      <td>15.8</td>\n",
       "    </tr>\n",
       "    <tr>\n",
       "      <th>2019-12-01</th>\n",
       "      <td>123.2</td>\n",
       "      <td>135.7</td>\n",
       "      <td>11.5</td>\n",
       "    </tr>\n",
       "  </tbody>\n",
       "</table>\n",
       "<p>119 rows × 3 columns</p>\n",
       "</div>"
      ],
      "text/plain": [
       "            total_sunshine_duration  last_month  last_month_solar_radiation\n",
       "date                                                                       \n",
       "2010-02-01                     69.5        92.7                         9.1\n",
       "2010-03-01                    134.9        69.5                         9.2\n",
       "2010-04-01                     81.3       134.9                        14.2\n",
       "2010-05-01                    111.8        81.3                        13.4\n",
       "2010-06-01                    128.1       111.8                        14.8\n",
       "...                             ...         ...                         ...\n",
       "2019-08-01                    191.3       196.2                        19.2\n",
       "2019-09-01                    154.2       191.3                        18.9\n",
       "2019-10-01                    198.8       154.2                        15.7\n",
       "2019-11-01                    135.7       198.8                        15.8\n",
       "2019-12-01                    123.2       135.7                        11.5\n",
       "\n",
       "[119 rows x 3 columns]"
      ]
     },
     "execution_count": 95,
     "metadata": {},
     "output_type": "execute_result"
    }
   ],
   "source": [
    "del data_total_sunshine_duration['solar_radiation']\n",
    "data_total_sunshine_duration"
   ]
  },
  {
   "cell_type": "code",
   "execution_count": 96,
   "id": "everyday-equation",
   "metadata": {},
   "outputs": [
    {
     "name": "stderr",
     "output_type": "stream",
     "text": [
      "<ipython-input-96-00a0d4b41418>:3: FutureWarning: Indexing a DataFrame with a datetimelike index using a single string to slice the rows, like `frame[string]`, is deprecated and will be removed in a future version. Use `frame.loc[string]` instead.\n",
      "  X_test = data_total_sunshine_duration['2019'].drop(['total_sunshine_duration'], axis = 1) #separate features for training\n"
     ]
    }
   ],
   "source": [
    "X_train = data_total_sunshine_duration[:'2018'].drop(['total_sunshine_duration'], axis = 1) #separate features for training\n",
    "y_train = data_total_sunshine_duration.loc[:'2018', 'total_sunshine_duration'] #separate target variable for training\n",
    "X_test = data_total_sunshine_duration['2019'].drop(['total_sunshine_duration'], axis = 1) #separate features for training\n",
    "y_test = data_total_sunshine_duration.loc['2019', 'total_sunshine_duration'] #separate target variable for testing"
   ]
  },
  {
   "cell_type": "code",
   "execution_count": 97,
   "id": "brazilian-browser",
   "metadata": {},
   "outputs": [],
   "source": [
    "def rmse(actual, predict):\n",
    "    predict = np.array(predict)\n",
    "    actual = np.array(actual)\n",
    "    distance = predict - actual\n",
    "    square_distance = distance ** 2\n",
    "    mean_square_distance = square_distance.mean()\n",
    "    score = np.sqrt(mean_square_distance)\n",
    "    return score\n",
    "rmse_score = make_scorer(rmse, greater_is_better = False)"
   ]
  },
  {
   "cell_type": "code",
   "execution_count": 98,
   "id": "unavailable-silence",
   "metadata": {},
   "outputs": [],
   "source": [
    "model = RandomForestRegressor()\n",
    "param_search = { \n",
    "    'n_estimators': [20, 50, 100],\n",
    "    'max_features': ['auto', 'sqrt', 'log2'],\n",
    "    'max_depth' : [i for i in range(5,15)]\n",
    "}\n",
    "tscv = TimeSeriesSplit(n_splits=10)\n",
    "gsearch = GridSearchCV(estimator=model, cv=tscv, param_grid=param_search, scoring = rmse_score)\n",
    "gsearch.fit(X_train, y_train)\n",
    "best_score = gsearch.best_score_\n",
    "best_model = gsearch.best_estimator_"
   ]
  },
  {
   "cell_type": "code",
   "execution_count": 93,
   "id": "obvious-scientist",
   "metadata": {},
   "outputs": [
    {
     "name": "stdout",
     "output_type": "stream",
     "text": [
      "explained_variance:  -0.2838\n",
      "mean_squared_log_error:  0.1047\n",
      "r2:  -0.2857\n",
      "MAE:  36.8936\n",
      "MSE:  1973.9787\n",
      "RMSE:  44.4295\n"
     ]
    }
   ],
   "source": [
    "y_true = y_test.values\n",
    "y_pred = best_model.predict(X_test)\n",
    "regression_results(y_true, y_pred)"
   ]
  },
  {
   "cell_type": "code",
   "execution_count": 30,
   "id": "located-clone",
   "metadata": {},
   "outputs": [],
   "source": [
    "X_train = data_total_sunshine_duration.drop(['total_sunshine_duration'], axis = 1)\n",
    "y_train = data_total_sunshine_duration.loc[:'2019', 'total_sunshine_duration']"
   ]
  },
  {
   "cell_type": "code",
   "execution_count": 31,
   "id": "italic-glass",
   "metadata": {},
   "outputs": [
    {
     "data": {
      "text/plain": [
       "date\n",
       "2010-02-01     69.5\n",
       "2010-03-01    134.9\n",
       "2010-04-01     81.3\n",
       "2010-05-01    111.8\n",
       "2010-06-01    128.1\n",
       "              ...  \n",
       "2019-08-01    191.3\n",
       "2019-09-01    154.2\n",
       "2019-10-01    198.8\n",
       "2019-11-01    135.7\n",
       "2019-12-01    123.2\n",
       "Name: total_sunshine_duration, Length: 119, dtype: float64"
      ]
     },
     "execution_count": 31,
     "metadata": {},
     "output_type": "execute_result"
    }
   ],
   "source": [
    "y_train"
   ]
  },
  {
   "cell_type": "code",
   "execution_count": 42,
   "id": "infrared-directive",
   "metadata": {},
   "outputs": [
    {
     "name": "stdout",
     "output_type": "stream",
     "text": [
      "[142.07993214 152.77470717 134.43117795 142.81179043 150.96989467\n",
      " 124.3523089  153.14833288 134.43117795 142.81179043 150.96989467]\n"
     ]
    }
   ],
   "source": [
    "test_data = pd.read_csv('predicted-total-sunshine-duration.csv')\n",
    "test_data = test_data.set_index('date')\n",
    "X_test = test_data.drop(['total_sunshine_duration'], axis = 1)\n",
    "\n",
    "# model = RandomForestRegressor()\n",
    "# param_search = { \n",
    "#     'n_estimators': [20, 50, 100],\n",
    "#     'max_features': ['auto', 'sqrt', 'log2'],\n",
    "#     'max_depth' : [i for i in range(5,15)]\n",
    "# }\n",
    "# tscv = TimeSeriesSplit(n_splits=10)\n",
    "# gsearch = GridSearchCV(estimator=model, cv=tscv, param_grid=param_search, scoring = rmse_score)\n",
    "# gsearch.fit(X_train, y_train)\n",
    "# best_score = gsearch.best_score_\n",
    "# best_model = gsearch.best_estimator_\n",
    "y_pred = best_model.predict(X_test)\n",
    "print(y_pred)"
   ]
  },
  {
   "cell_type": "code",
   "execution_count": null,
   "id": "empty-penalty",
   "metadata": {},
   "outputs": [],
   "source": []
  }
 ],
 "metadata": {
  "kernelspec": {
   "display_name": "Python 3",
   "language": "python",
   "name": "python3"
  },
  "language_info": {
   "codemirror_mode": {
    "name": "ipython",
    "version": 3
   },
   "file_extension": ".py",
   "mimetype": "text/x-python",
   "name": "python",
   "nbconvert_exporter": "python",
   "pygments_lexer": "ipython3",
   "version": "3.8.8"
  }
 },
 "nbformat": 4,
 "nbformat_minor": 5
}
