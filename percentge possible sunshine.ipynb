{
 "cells": [
  {
   "cell_type": "code",
   "execution_count": 1,
   "id": "greatest-article",
   "metadata": {},
   "outputs": [],
   "source": [
    "#import needed libraries\n",
    "import numpy as np #for numerical operations\n",
    "import pandas as pd #for file operations\n",
    "import matplotlib.pyplot as plt #for plotting graphs\n",
    "import seaborn as sns #also for plotting graphs\n",
    "from sklearn.linear_model import LinearRegression #for machine learning \n",
    "from sklearn import metrics #for testing the machine learning model"
   ]
  },
  {
   "cell_type": "code",
   "execution_count": 2,
   "id": "minor-miami",
   "metadata": {},
   "outputs": [],
   "source": [
    "# Importing the dataset\n",
    "dataset = pd.read_csv('percentage-possible-sunshine-Japanweather1.csv')"
   ]
  },
  {
   "cell_type": "code",
   "execution_count": 3,
   "id": "awful-floor",
   "metadata": {},
   "outputs": [
    {
     "data": {
      "text/html": [
       "<div>\n",
       "<style scoped>\n",
       "    .dataframe tbody tr th:only-of-type {\n",
       "        vertical-align: middle;\n",
       "    }\n",
       "\n",
       "    .dataframe tbody tr th {\n",
       "        vertical-align: top;\n",
       "    }\n",
       "\n",
       "    .dataframe thead th {\n",
       "        text-align: right;\n",
       "    }\n",
       "</style>\n",
       "<table border=\"1\" class=\"dataframe\">\n",
       "  <thead>\n",
       "    <tr style=\"text-align: right;\">\n",
       "      <th></th>\n",
       "      <th>year</th>\n",
       "      <th>total_precipitation</th>\n",
       "      <th>mean_relative_humidity</th>\n",
       "      <th>mean_air_temperature</th>\n",
       "      <th>mean_wind_speed</th>\n",
       "      <th>total_sunshine_duration</th>\n",
       "      <th>solar_radiation</th>\n",
       "      <th>percentage_possible_sunshine</th>\n",
       "    </tr>\n",
       "  </thead>\n",
       "  <tbody>\n",
       "    <tr>\n",
       "      <th>0</th>\n",
       "      <td>Jan-10</td>\n",
       "      <td>90.0</td>\n",
       "      <td>67</td>\n",
       "      <td>16.8</td>\n",
       "      <td>5.0</td>\n",
       "      <td>92.7</td>\n",
       "      <td>9.1</td>\n",
       "      <td>28</td>\n",
       "    </tr>\n",
       "    <tr>\n",
       "      <th>1</th>\n",
       "      <td>Feb-10</td>\n",
       "      <td>276.5</td>\n",
       "      <td>77</td>\n",
       "      <td>18.3</td>\n",
       "      <td>5.6</td>\n",
       "      <td>69.5</td>\n",
       "      <td>9.2</td>\n",
       "      <td>22</td>\n",
       "    </tr>\n",
       "    <tr>\n",
       "      <th>2</th>\n",
       "      <td>Mar-10</td>\n",
       "      <td>41.5</td>\n",
       "      <td>71</td>\n",
       "      <td>19.9</td>\n",
       "      <td>5.8</td>\n",
       "      <td>134.9</td>\n",
       "      <td>14.2</td>\n",
       "      <td>36</td>\n",
       "    </tr>\n",
       "    <tr>\n",
       "      <th>3</th>\n",
       "      <td>Apr-10</td>\n",
       "      <td>219.0</td>\n",
       "      <td>76</td>\n",
       "      <td>21.2</td>\n",
       "      <td>5.4</td>\n",
       "      <td>81.3</td>\n",
       "      <td>13.4</td>\n",
       "      <td>21</td>\n",
       "    </tr>\n",
       "    <tr>\n",
       "      <th>4</th>\n",
       "      <td>May-10</td>\n",
       "      <td>574.5</td>\n",
       "      <td>79</td>\n",
       "      <td>23.8</td>\n",
       "      <td>5.1</td>\n",
       "      <td>111.8</td>\n",
       "      <td>14.8</td>\n",
       "      <td>27</td>\n",
       "    </tr>\n",
       "  </tbody>\n",
       "</table>\n",
       "</div>"
      ],
      "text/plain": [
       "     year  total_precipitation  mean_relative_humidity  mean_air_temperature  \\\n",
       "0  Jan-10                 90.0                      67                  16.8   \n",
       "1  Feb-10                276.5                      77                  18.3   \n",
       "2  Mar-10                 41.5                      71                  19.9   \n",
       "3  Apr-10                219.0                      76                  21.2   \n",
       "4  May-10                574.5                      79                  23.8   \n",
       "\n",
       "   mean_wind_speed  total_sunshine_duration  solar_radiation  \\\n",
       "0              5.0                     92.7              9.1   \n",
       "1              5.6                     69.5              9.2   \n",
       "2              5.8                    134.9             14.2   \n",
       "3              5.4                     81.3             13.4   \n",
       "4              5.1                    111.8             14.8   \n",
       "\n",
       "   percentage_possible_sunshine  \n",
       "0                            28  \n",
       "1                            22  \n",
       "2                            36  \n",
       "3                            21  \n",
       "4                            27  "
      ]
     },
     "execution_count": 3,
     "metadata": {},
     "output_type": "execute_result"
    }
   ],
   "source": [
    "dataset.head() #show the first 5 rows of the dataset"
   ]
  },
  {
   "cell_type": "code",
   "execution_count": 4,
   "id": "revised-night",
   "metadata": {},
   "outputs": [],
   "source": [
    "X = dataset.iloc[:, 1:-1].values #select All rows, all columns excluding the first and the last column\n",
    "y = dataset.iloc[:, -1].values #select All rows, last column\n",
    "\n",
    "#dates = X[:,0]\n",
    "dates = dataset.iloc[:,0] #store the dates from the dataset (first column) in a variable, to be used when plotting graphs"
   ]
  },
  {
   "cell_type": "code",
   "execution_count": 5,
   "id": "accepted-surveillance",
   "metadata": {},
   "outputs": [
    {
     "data": {
      "text/plain": [
       "LinearRegression()"
      ]
     },
     "execution_count": 5,
     "metadata": {},
     "output_type": "execute_result"
    }
   ],
   "source": [
    "#train a linear regression model on the data\n",
    "model = LinearRegression()\n",
    "model.fit(X, y)"
   ]
  },
  {
   "cell_type": "code",
   "execution_count": 6,
   "id": "conventional-month",
   "metadata": {},
   "outputs": [
    {
     "name": "stdout",
     "output_type": "stream",
     "text": [
      "coefficient of determination:  0.979624676027257\n"
     ]
    }
   ],
   "source": [
    "#find the coefficient of determination to see how well the model performs\n",
    "r_sq = model.score(X, y)\n",
    "print('coefficient of determination: ', r_sq)"
   ]
  },
  {
   "cell_type": "code",
   "execution_count": 7,
   "id": "pregnant-import",
   "metadata": {},
   "outputs": [
    {
     "name": "stdout",
     "output_type": "stream",
     "text": [
      "predicted response: \n",
      "[29.17046615 21.30883339 36.3298712  20.79822641 28.00535241 30.37165633\n",
      " 35.89841874 45.74801832 53.67407159 33.4695836  31.7837769  37.5304041\n",
      " 21.494898   29.81188924 24.90610566 46.83436693 19.01444378 45.285489\n",
      " 58.21454063 49.8114679  52.40274849 32.57060868 24.44948524 24.20301222\n",
      " 19.79168883 18.82551098 33.70741191 25.60334472 35.36808509 30.1512226\n",
      " 60.04808484 40.93510095 41.61062042 44.86925606 34.65195549 30.34374584\n",
      " 29.75823974 32.10146219 38.85179497 24.53088852 22.60056535 52.38782003\n",
      " 67.25166915 61.18557762 53.01193656 36.17462612 35.9466091  29.0117153\n",
      " 43.28329584 23.80546666 30.14981145 37.52341691 27.74616973 32.9025729\n",
      " 57.73505604 45.15548893 58.35641929 46.97985675 39.33563445 27.83210344\n",
      " 29.48635373 32.60987058 33.94246802 30.53033604 35.37162342 54.19967596\n",
      " 49.66729421 42.64688162 53.88210745 48.0768277  40.61239007 32.36741322\n",
      " 25.26943181 24.95676547 29.75068197 30.5207173  35.19988334 46.0620865\n",
      " 62.77574698 58.37281711 36.54978033 48.19615701 37.97968598 34.73034675\n",
      " 25.4659501  24.06796605 28.82614538 33.07872683 27.73644051 25.949543\n",
      " 67.43657011 61.51418402 48.71874573 42.0804348  26.47858134 32.20874102\n",
      " 24.68614096 28.323628   47.76738351 40.63820768 59.08444856 41.84567424\n",
      " 44.15656796 51.47381018 44.69470743 42.28716832 44.95240885 27.69601984\n",
      " 30.56072523 22.85223301 34.83463112 30.44074105 37.78311703 21.3685792\n",
      " 48.96926849 47.92632455 39.61425473 53.90935779 39.44182402 37.76144702]\n"
     ]
    }
   ],
   "source": [
    "y_pred = model.predict(X) #using the trained model, try to predict outcomes\n",
    "print('predicted response: ', y_pred, sep='\\n') #display predictions"
   ]
  },
  {
   "cell_type": "code",
   "execution_count": 8,
   "id": "ordinary-italy",
   "metadata": {},
   "outputs": [
    {
     "name": "stdout",
     "output_type": "stream",
     "text": [
      "Mean Absolute Error: 1.3629940852820188\n",
      "Mean Squared Error: 2.8210640656930734\n",
      "Root Mean Squared Error: 1.6796023534435385\n"
     ]
    }
   ],
   "source": [
    "#model evauluation metrics\n",
    "print('Mean Absolute Error:', metrics.mean_absolute_error(y, y_pred))  \n",
    "print('Mean Squared Error:', metrics.mean_squared_error(y, y_pred))  \n",
    "print('Root Mean Squared Error:', np.sqrt(metrics.mean_squared_error(y, y_pred)))"
   ]
  },
  {
   "cell_type": "code",
   "execution_count": 9,
   "id": "governing-bosnia",
   "metadata": {},
   "outputs": [
    {
     "data": {
      "text/plain": [
       "Text(0.5, 1.0, 'Percentage possible sunshine - actual and predicted values')"
      ]
     },
     "execution_count": 9,
     "metadata": {},
     "output_type": "execute_result"
    },
    {
     "data": {
      "image/png": "[encoded data removed]",
      "text/plain": [
       "<Figure size 720x360 with 1 Axes>"
      ]
     },
     "metadata": {
      "needs_background": "light"
     },
     "output_type": "display_data"
    }
   ],
   "source": [
    "df = pd.DataFrame(dict(actual_values=y[-13:-1], predicted_values=y_pred[-13:-1]), index=dates[-13:-1]) #create a dataframe containing the last 12 actual and predicted values with the month and year as the index of the dataframe\n",
    "g = sns.relplot(kind=\"line\", data=df) #plot a line graph using the dataframe\n",
    "g.fig.autofmt_xdate() #adjust the size of the x-axis so the dates have some spacing\n",
    "g.fig.set_size_inches(10, 5) #set the size of the figure\n",
    "plt.xlabel('Dates') #set the label for the x-axis\n",
    "plt.ylabel('Percentage possible sunshine') #set the label for the y-axis\n",
    "plt.title('Percentage possible sunshine - actual and predicted values') #set the title of the graph"
   ]
  },
  {
   "cell_type": "code",
   "execution_count": null,
   "id": "clear-school",
   "metadata": {},
   "outputs": [],
   "source": []
  }
 ],
 "metadata": {
  "kernelspec": {
   "display_name": "Python 3",
   "language": "python",
   "name": "python3"
  },
  "language_info": {
   "codemirror_mode": {
    "name": "ipython",
    "version": 3
   },
   "file_extension": ".py",
   "mimetype": "text/x-python",
   "name": "python",
   "nbconvert_exporter": "python",
   "pygments_lexer": "ipython3",
   "version": "3.8.8"
  }
 },
 "nbformat": 4,
 "nbformat_minor": 5
}
