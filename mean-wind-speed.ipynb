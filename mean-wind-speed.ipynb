{
 "cells": [
  {
   "cell_type": "code",
   "execution_count": 1,
   "id": "guilty-civilian",
   "metadata": {},
   "outputs": [],
   "source": [
    "#import needed libraries\n",
    "import numpy as np #for numerical operations\n",
    "import pandas as pd #for file operations\n",
    "import matplotlib.pyplot as plt #for plotting graphs\n",
    "import seaborn as sns #also for plotting graphs\n",
    "from sklearn.linear_model import LinearRegression #for machine learning \n",
    "from sklearn import metrics #for testing the machine learning model"
   ]
  },
  {
   "cell_type": "code",
   "execution_count": 2,
   "id": "polar-redhead",
   "metadata": {},
   "outputs": [],
   "source": [
    "# Importing the dataset\n",
    "dataset = pd.read_csv('mean-wind-speed.csv')"
   ]
  },
  {
   "cell_type": "code",
   "execution_count": 3,
   "id": "figured-montgomery",
   "metadata": {},
   "outputs": [
    {
     "data": {
      "text/html": [
       "<div>\n",
       "<style scoped>\n",
       "    .dataframe tbody tr th:only-of-type {\n",
       "        vertical-align: middle;\n",
       "    }\n",
       "\n",
       "    .dataframe tbody tr th {\n",
       "        vertical-align: top;\n",
       "    }\n",
       "\n",
       "    .dataframe thead th {\n",
       "        text-align: right;\n",
       "    }\n",
       "</style>\n",
       "<table border=\"1\" class=\"dataframe\">\n",
       "  <thead>\n",
       "    <tr style=\"text-align: right;\">\n",
       "      <th></th>\n",
       "      <th>year</th>\n",
       "      <th>total_precipitation</th>\n",
       "      <th>mean_relative_humidity</th>\n",
       "      <th>mean_air_temperature</th>\n",
       "      <th>percentage_possible_sunshine</th>\n",
       "      <th>total_sunshine_duration</th>\n",
       "      <th>solar_radiation</th>\n",
       "      <th>mean_wind_speed</th>\n",
       "    </tr>\n",
       "  </thead>\n",
       "  <tbody>\n",
       "    <tr>\n",
       "      <th>0</th>\n",
       "      <td>Jan-10</td>\n",
       "      <td>90.0</td>\n",
       "      <td>67</td>\n",
       "      <td>16.8</td>\n",
       "      <td>28</td>\n",
       "      <td>92.7</td>\n",
       "      <td>9.1</td>\n",
       "      <td>5.0</td>\n",
       "    </tr>\n",
       "    <tr>\n",
       "      <th>1</th>\n",
       "      <td>Feb-10</td>\n",
       "      <td>276.5</td>\n",
       "      <td>77</td>\n",
       "      <td>18.3</td>\n",
       "      <td>22</td>\n",
       "      <td>69.5</td>\n",
       "      <td>9.2</td>\n",
       "      <td>5.6</td>\n",
       "    </tr>\n",
       "    <tr>\n",
       "      <th>2</th>\n",
       "      <td>Mar-10</td>\n",
       "      <td>41.5</td>\n",
       "      <td>71</td>\n",
       "      <td>19.9</td>\n",
       "      <td>36</td>\n",
       "      <td>134.9</td>\n",
       "      <td>14.2</td>\n",
       "      <td>5.8</td>\n",
       "    </tr>\n",
       "    <tr>\n",
       "      <th>3</th>\n",
       "      <td>Apr-10</td>\n",
       "      <td>219.0</td>\n",
       "      <td>76</td>\n",
       "      <td>21.2</td>\n",
       "      <td>21</td>\n",
       "      <td>81.3</td>\n",
       "      <td>13.4</td>\n",
       "      <td>5.4</td>\n",
       "    </tr>\n",
       "    <tr>\n",
       "      <th>4</th>\n",
       "      <td>May-10</td>\n",
       "      <td>574.5</td>\n",
       "      <td>79</td>\n",
       "      <td>23.8</td>\n",
       "      <td>27</td>\n",
       "      <td>111.8</td>\n",
       "      <td>14.8</td>\n",
       "      <td>5.1</td>\n",
       "    </tr>\n",
       "  </tbody>\n",
       "</table>\n",
       "</div>"
      ],
      "text/plain": [
       "     year  total_precipitation  mean_relative_humidity  mean_air_temperature  \\\n",
       "0  Jan-10                 90.0                      67                  16.8   \n",
       "1  Feb-10                276.5                      77                  18.3   \n",
       "2  Mar-10                 41.5                      71                  19.9   \n",
       "3  Apr-10                219.0                      76                  21.2   \n",
       "4  May-10                574.5                      79                  23.8   \n",
       "\n",
       "   percentage_possible_sunshine  total_sunshine_duration  solar_radiation  \\\n",
       "0                            28                     92.7              9.1   \n",
       "1                            22                     69.5              9.2   \n",
       "2                            36                    134.9             14.2   \n",
       "3                            21                     81.3             13.4   \n",
       "4                            27                    111.8             14.8   \n",
       "\n",
       "   mean_wind_speed  \n",
       "0              5.0  \n",
       "1              5.6  \n",
       "2              5.8  \n",
       "3              5.4  \n",
       "4              5.1  "
      ]
     },
     "execution_count": 3,
     "metadata": {},
     "output_type": "execute_result"
    }
   ],
   "source": [
    "dataset.head() #show the first 5 rows of the dataset"
   ]
  },
  {
   "cell_type": "code",
   "execution_count": 4,
   "id": "oriental-composition",
   "metadata": {},
   "outputs": [],
   "source": [
    "X = dataset.iloc[:, 1:-1].values #select All rows, all columns excluding the first and the last column\n",
    "y = dataset.iloc[:, -1].values #select All rows, last column\n",
    "\n",
    "#dates = X[:,0]\n",
    "dates = dataset.iloc[:,0] #store the dates from the dataset (first column) in a variable, to be used when plotting graphs"
   ]
  },
  {
   "cell_type": "code",
   "execution_count": 5,
   "id": "ultimate-motel",
   "metadata": {},
   "outputs": [
    {
     "data": {
      "text/plain": [
       "LinearRegression()"
      ]
     },
     "execution_count": 5,
     "metadata": {},
     "output_type": "execute_result"
    }
   ],
   "source": [
    "#train a linear regression model on the data\n",
    "model = LinearRegression()\n",
    "model.fit(X, y)"
   ]
  },
  {
   "cell_type": "code",
   "execution_count": 6,
   "id": "abstract-snowboard",
   "metadata": {},
   "outputs": [
    {
     "name": "stdout",
     "output_type": "stream",
     "text": [
      "coefficient of determination:  0.1302559779546001\n"
     ]
    }
   ],
   "source": [
    "#find the coefficient of determination to see how well the model performs\n",
    "r_sq = model.score(X, y)\n",
    "print('coefficient of determination: ', r_sq)"
   ]
  },
  {
   "cell_type": "code",
   "execution_count": 7,
   "id": "guided-cookie",
   "metadata": {},
   "outputs": [
    {
     "name": "stdout",
     "output_type": "stream",
     "text": [
      "predicted response: \n",
      "[5.23525223 5.37796221 5.01485209 5.15932038 5.72783868 5.10556883\n",
      " 5.42481962 5.34558531 5.23529003 5.60668145 5.40613373 5.27281358\n",
      " 5.31959232 5.05924431 5.00760444 4.97450992 5.29887145 5.11459201\n",
      " 5.09190313 5.64034236 4.99748827 5.39173554 5.58425214 5.32476787\n",
      " 5.34699583 5.17626488 5.04769048 5.38676066 5.21997744 5.39062839\n",
      " 5.13656239 5.93192812 5.37044728 5.21606857 5.40833284 5.35208766\n",
      " 5.261493   5.02067305 5.16220352 5.17462536 5.67221488 4.95715458\n",
      " 5.0117281  5.30277622 5.20117658 5.41430925 5.29685739 5.37077585\n",
      " 5.22007355 5.2263768  5.20846543 4.93695984 5.35493256 5.42530585\n",
      " 5.65838882 5.32417437 5.10677923 5.51007722 5.17596327 5.36237003\n",
      " 5.2204022  4.96717508 5.0448865  4.99406271 5.10806001 4.90441513\n",
      " 5.4774332  5.35057158 4.98600485 5.1884324  5.23706841 5.30686388\n",
      " 5.55833799 5.21514716 5.21286508 5.25072344 5.01822864 5.37840784\n",
      " 5.25270287 5.37161075 5.45337647 5.21126279 5.29027114 5.26765558\n",
      " 5.30324668 5.09592785 5.11297521 4.950498   5.30820632 5.4797415\n",
      " 5.08216422 5.10422341 5.36068329 5.44500068 5.34122259 5.25643441\n",
      " 5.35135149 5.0386377  5.05515223 4.99015727 4.90057817 5.15564436\n",
      " 5.55122614 5.43409716 5.41630546 5.63214944 5.32521838 5.3962945\n",
      " 5.21343985 5.1256422  5.20402025 5.02650974 5.19754793 5.6696015\n",
      " 5.36980646 5.25124081 5.6326101  5.20497502 5.28967228 5.30521051]\n"
     ]
    }
   ],
   "source": [
    "y_pred = model.predict(X) #using the trained model, try to predict outcomes\n",
    "print('predicted response: ', y_pred, sep='\\n') #display predictions"
   ]
  },
  {
   "cell_type": "code",
   "execution_count": 8,
   "id": "unavailable-volunteer",
   "metadata": {},
   "outputs": [
    {
     "name": "stdout",
     "output_type": "stream",
     "text": [
      "Mean Absolute Error: 0.38218726510745943\n",
      "Mean Squared Error: 0.25447200112787904\n",
      "Root Mean Squared Error: 0.5044521792280008\n"
     ]
    }
   ],
   "source": [
    "#model evauluation metrics\n",
    "print('Mean Absolute Error:', metrics.mean_absolute_error(y, y_pred))  \n",
    "print('Mean Squared Error:', metrics.mean_squared_error(y, y_pred))  \n",
    "print('Root Mean Squared Error:', np.sqrt(metrics.mean_squared_error(y, y_pred)))"
   ]
  },
  {
   "cell_type": "code",
   "execution_count": 9,
   "id": "sustained-cuisine",
   "metadata": {},
   "outputs": [
    {
     "data": {
      "text/plain": [
       "Text(0.5, 1.0, 'Mean wind speed - actual and predicted values')"
      ]
     },
     "execution_count": 9,
     "metadata": {},
     "output_type": "execute_result"
    },
    {
     "data": {
      "image/png": "[encoded data removed]",
      "text/plain": [
       "<Figure size 720x360 with 1 Axes>"
      ]
     },
     "metadata": {
      "needs_background": "light"
     },
     "output_type": "display_data"
    }
   ],
   "source": [
    "df = pd.DataFrame(dict(actual_values=y[-13:-1], predicted_values=y_pred[-13:-1]), index=dates[-13:-1]) #create a dataframe containing the last 12 actual and predicted values with the month and year as the index of the dataframe\n",
    "g = sns.relplot(kind=\"line\", data=df) #plot a line graph using the dataframe\n",
    "g.fig.autofmt_xdate() #adjust the size of the x-axis so the dates have some spacing\n",
    "g.fig.set_size_inches(10, 5) #set the size of the figure\n",
    "plt.xlabel('Dates') #set the label for the x-axis\n",
    "plt.ylabel('Mean wind speed') #set the label for the y-axis\n",
    "plt.title('Mean wind speed - actual and predicted values') #set the title of the graph"
   ]
  },
  {
   "cell_type": "code",
   "execution_count": null,
   "id": "minus-louisville",
   "metadata": {},
   "outputs": [],
   "source": []
  }
 ],
 "metadata": {
  "kernelspec": {
   "display_name": "Python 3",
   "language": "python",
   "name": "python3"
  },
  "language_info": {
   "codemirror_mode": {
    "name": "ipython",
    "version": 3
   },
   "file_extension": ".py",
   "mimetype": "text/x-python",
   "name": "python",
   "nbconvert_exporter": "python",
   "pygments_lexer": "ipython3",
   "version": "3.8.8"
  }
 },
 "nbformat": 4,
 "nbformat_minor": 5
}
